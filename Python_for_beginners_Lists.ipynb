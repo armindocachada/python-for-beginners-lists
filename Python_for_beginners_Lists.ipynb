{
  "nbformat": 4,
  "nbformat_minor": 0,
  "metadata": {
    "colab": {
      "name": "Python for beginners - Lists.ipynb",
      "provenance": [],
      "collapsed_sections": [],
      "authorship_tag": "ABX9TyOUlOWysoM0jZi5qyjz9PZ3",
      "include_colab_link": true
    },
    "kernelspec": {
      "name": "python3",
      "display_name": "Python 3"
    }
  },
  "cells": [
    {
      "cell_type": "markdown",
      "metadata": {
        "id": "view-in-github",
        "colab_type": "text"
      },
      "source": [
        "<a href=\"https://colab.research.google.com/github/armindocachada/python-for-beginners-lists/blob/master/Python_for_beginners_Lists.ipynb\" target=\"_parent\"><img src=\"https://colab.research.google.com/assets/colab-badge.svg\" alt=\"Open In Colab\"/></a>"
      ]
    },
    {
      "cell_type": "markdown",
      "metadata": {
        "id": "LJuR2iU_EL80",
        "colab_type": "text"
      },
      "source": [
        "**How to create Lists**"
      ]
    },
    {
      "cell_type": "code",
      "metadata": {
        "id": "y3TXvLJV8zTY",
        "colab_type": "code",
        "colab": {
          "base_uri": "https://localhost:8080/",
          "height": 35
        },
        "outputId": "f3c8d343-018d-4079-b9b8-fdbb7ee2f671"
      },
      "source": [
        "list1=[1,2,3,4]\n",
        "print(list1)"
      ],
      "execution_count": null,
      "outputs": [
        {
          "output_type": "stream",
          "text": [
            "[1, 2, 3, 4]\n"
          ],
          "name": "stdout"
        }
      ]
    },
    {
      "cell_type": "code",
      "metadata": {
        "id": "6mfmhSbOA6vb",
        "colab_type": "code",
        "colab": {
          "base_uri": "https://localhost:8080/",
          "height": 35
        },
        "outputId": "60512ed2-eb3e-4961-c09f-f7ce2f898912"
      },
      "source": [
        "list2=[\"one\",\"two\",\"three\"]\n",
        "print(list2)"
      ],
      "execution_count": null,
      "outputs": [
        {
          "output_type": "stream",
          "text": [
            "['one', 'two', 'three']\n"
          ],
          "name": "stdout"
        }
      ]
    },
    {
      "cell_type": "code",
      "metadata": {
        "id": "84H1xzDuBpxU",
        "colab_type": "code",
        "colab": {
          "base_uri": "https://localhost:8080/",
          "height": 35
        },
        "outputId": "c625d1cd-dd14-492c-950e-5cae795e3a26"
      },
      "source": [
        "list3=[\"one\",1,\"two\",2,\"three\",3]\n",
        "print(list3)"
      ],
      "execution_count": null,
      "outputs": [
        {
          "output_type": "stream",
          "text": [
            "['one', 1, 'two', 2, 'three', 3]\n"
          ],
          "name": "stdout"
        }
      ]
    },
    {
      "cell_type": "code",
      "metadata": {
        "id": "PC2srwUODJwb",
        "colab_type": "code",
        "colab": {
          "base_uri": "https://localhost:8080/",
          "height": 35
        },
        "outputId": "98622a39-dcf8-4639-a7a0-ddb872003fa1"
      },
      "source": [
        "list4=[[\"one\",\"two\",\"three\",\"four\"],[1,2,3,4,5]]\n",
        "print(list4)"
      ],
      "execution_count": null,
      "outputs": [
        {
          "output_type": "stream",
          "text": [
            "[['one', 'two', 'three', 'four'], [1, 2, 3, 4, 5]]\n"
          ],
          "name": "stdout"
        }
      ]
    },
    {
      "cell_type": "markdown",
      "metadata": {
        "id": "fURZxuCaEpbD",
        "colab_type": "text"
      },
      "source": [
        "**How to access elements in a List**\n",
        "\n"
      ]
    },
    {
      "cell_type": "code",
      "metadata": {
        "id": "9Jpu1XcZEvUW",
        "colab_type": "code",
        "colab": {
          "base_uri": "https://localhost:8080/",
          "height": 35
        },
        "outputId": "260219a7-cf0c-442a-dcc3-ed544d8d8210"
      },
      "source": [
        "element = list3[0]\n",
        "print(element)"
      ],
      "execution_count": null,
      "outputs": [
        {
          "output_type": "stream",
          "text": [
            "one\n"
          ],
          "name": "stdout"
        }
      ]
    },
    {
      "cell_type": "code",
      "metadata": {
        "id": "yzOKq68cF9PV",
        "colab_type": "code",
        "colab": {
          "base_uri": "https://localhost:8080/",
          "height": 35
        },
        "outputId": "8da2a75c-0713-4c88-e334-fada50e51091"
      },
      "source": [
        "element= list3[5]\n",
        "print(element)"
      ],
      "execution_count": null,
      "outputs": [
        {
          "output_type": "stream",
          "text": [
            "3\n"
          ],
          "name": "stdout"
        }
      ]
    },
    {
      "cell_type": "code",
      "metadata": {
        "id": "UaOUCg8GGc7i",
        "colab_type": "code",
        "colab": {
          "base_uri": "https://localhost:8080/",
          "height": 35
        },
        "outputId": "050b3a17-34c9-4f8b-d9a3-6feb5bcf59f9"
      },
      "source": [
        "element=list3[-1]\n",
        "print(element)"
      ],
      "execution_count": null,
      "outputs": [
        {
          "output_type": "stream",
          "text": [
            "3\n"
          ],
          "name": "stdout"
        }
      ]
    },
    {
      "cell_type": "code",
      "metadata": {
        "id": "vJudpurVGmen",
        "colab_type": "code",
        "colab": {
          "base_uri": "https://localhost:8080/",
          "height": 35
        },
        "outputId": "2d6bb4cf-fb3b-42ea-b381-ad9f322e5089"
      },
      "source": [
        "element=list3[-2] \n",
        "print(element)"
      ],
      "execution_count": null,
      "outputs": [
        {
          "output_type": "stream",
          "text": [
            "three\n"
          ],
          "name": "stdout"
        }
      ]
    },
    {
      "cell_type": "code",
      "metadata": {
        "id": "Qa0-nAqLMQil",
        "colab_type": "code",
        "colab": {
          "base_uri": "https://localhost:8080/",
          "height": 35
        },
        "outputId": "14421c24-8f22-4324-80b7-417a77e64587"
      },
      "source": [
        "element=list3[1:-1]\n",
        "print(element)"
      ],
      "execution_count": null,
      "outputs": [
        {
          "output_type": "stream",
          "text": [
            "[1, 'two', 2, 'three']\n"
          ],
          "name": "stdout"
        }
      ]
    },
    {
      "cell_type": "markdown",
      "metadata": {
        "id": "X6CdiiqeQVSG",
        "colab_type": "text"
      },
      "source": [
        "**How to replace Elements in A List**"
      ]
    },
    {
      "cell_type": "code",
      "metadata": {
        "id": "s13x6naeQZM0",
        "colab_type": "code",
        "colab": {
          "base_uri": "https://localhost:8080/",
          "height": 35
        },
        "outputId": "624ecb8c-0886-4a94-ca2d-d9dcc22d0e9a"
      },
      "source": [
        "list1[0]=\"one\"\n",
        "print(list1)"
      ],
      "execution_count": null,
      "outputs": [
        {
          "output_type": "stream",
          "text": [
            "['one', 2, 3, 4]\n"
          ],
          "name": "stdout"
        }
      ]
    },
    {
      "cell_type": "code",
      "metadata": {
        "id": "CoAT7xvbRpHU",
        "colab_type": "code",
        "colab": {
          "base_uri": "https://localhost:8080/",
          "height": 35
        },
        "outputId": "6ced4ded-ef82-44ef-f6bf-c7467af0cd66"
      },
      "source": [
        "list1[1:-1]=[\"two\",\"three\"]\n",
        "print(list1)"
      ],
      "execution_count": null,
      "outputs": [
        {
          "output_type": "stream",
          "text": [
            "['one', 'two', 'three', 4]\n"
          ],
          "name": "stdout"
        }
      ]
    },
    {
      "cell_type": "markdown",
      "metadata": {
        "id": "enKG28-wSqFD",
        "colab_type": "text"
      },
      "source": [
        "How to add Elements to a list"
      ]
    },
    {
      "cell_type": "code",
      "metadata": {
        "id": "KG85P4g4Sukb",
        "colab_type": "code",
        "colab": {
          "base_uri": "https://localhost:8080/",
          "height": 35
        },
        "outputId": "35bd3c03-9ce5-491e-b031-2a57448efa6a"
      },
      "source": [
        "list4.append(\"six\")\n",
        "print(list4)"
      ],
      "execution_count": null,
      "outputs": [
        {
          "output_type": "stream",
          "text": [
            "[['one', 'two', 'three', 'four'], [1, 2, 3, 4, 5], 'six', 'six']\n"
          ],
          "name": "stdout"
        }
      ]
    },
    {
      "cell_type": "markdown",
      "metadata": {
        "id": "BaorJ4feTNCS",
        "colab_type": "text"
      },
      "source": [
        "**How to remove elements from a list**"
      ]
    },
    {
      "cell_type": "code",
      "metadata": {
        "id": "Ly4NuSz3TPPw",
        "colab_type": "code",
        "colab": {
          "base_uri": "https://localhost:8080/",
          "height": 35
        },
        "outputId": "e800f631-7e9d-4577-d175-5f8cca466422"
      },
      "source": [
        "list4.remove(\"six\")\n",
        "print(list4)"
      ],
      "execution_count": null,
      "outputs": [
        {
          "output_type": "stream",
          "text": [
            "[['one', 'two', 'three', 'four'], [1, 2, 3, 4, 5], 'six']\n"
          ],
          "name": "stdout"
        }
      ]
    },
    {
      "cell_type": "code",
      "metadata": {
        "id": "70YT1BumUCRH",
        "colab_type": "code",
        "colab": {
          "base_uri": "https://localhost:8080/",
          "height": 52
        },
        "outputId": "2d1d85de-6c2e-46c8-f476-6d59170b13a9"
      },
      "source": [
        "result=list4.pop(-1)\n",
        "print(list4)\n",
        "print(result)"
      ],
      "execution_count": null,
      "outputs": [
        {
          "output_type": "stream",
          "text": [
            "[['one', 'two', 'three', 'four'], [1, 2, 3, 4, 5]]\n",
            "six\n"
          ],
          "name": "stdout"
        }
      ]
    },
    {
      "cell_type": "markdown",
      "metadata": {
        "id": "00QvtBCNVGRC",
        "colab_type": "text"
      },
      "source": [
        "How to get the number of elements in a list"
      ]
    },
    {
      "cell_type": "code",
      "metadata": {
        "id": "mjHBFujsVJfJ",
        "colab_type": "code",
        "colab": {
          "base_uri": "https://localhost:8080/",
          "height": 35
        },
        "outputId": "b2504cfd-1e07-4b4a-f769-d1724caf4ec0"
      },
      "source": [
        "print(len(list4))"
      ],
      "execution_count": null,
      "outputs": [
        {
          "output_type": "stream",
          "text": [
            "2\n"
          ],
          "name": "stdout"
        }
      ]
    },
    {
      "cell_type": "markdown",
      "metadata": {
        "id": "eRtBiqVTWTqm",
        "colab_type": "text"
      },
      "source": [
        "**How to iterate/Loop through a list**"
      ]
    },
    {
      "cell_type": "code",
      "metadata": {
        "id": "N4Qhtsj8WXkK",
        "colab_type": "code",
        "colab": {
          "base_uri": "https://localhost:8080/",
          "height": 87
        },
        "outputId": "26533a16-408f-4a31-e278-674f85cf0f5b"
      },
      "source": [
        "for item in list1:\n",
        "  print(item)"
      ],
      "execution_count": null,
      "outputs": [
        {
          "output_type": "stream",
          "text": [
            "one\n",
            "two\n",
            "three\n",
            "4\n"
          ],
          "name": "stdout"
        }
      ]
    },
    {
      "cell_type": "code",
      "metadata": {
        "id": "TcKU4QXfYAjq",
        "colab_type": "code",
        "colab": {
          "base_uri": "https://localhost:8080/",
          "height": 87
        },
        "outputId": "eabee722-a0a8-4f82-ea1c-a445cc54ac41"
      },
      "source": [
        "for i,item in enumerate(list1):\n",
        "  print(\"index={} item={}\".format(i,item))"
      ],
      "execution_count": null,
      "outputs": [
        {
          "output_type": "stream",
          "text": [
            "index=0 item=one\n",
            "index=1 item=two\n",
            "index=2 item=three\n",
            "index=3 item=4\n"
          ],
          "name": "stdout"
        }
      ]
    }
  ]
}